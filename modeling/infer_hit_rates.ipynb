{
 "cells": [
  {
   "cell_type": "code",
   "execution_count": 1,
   "id": "7a559530-91d4-4f88-b7e3-810b1cb3e069",
   "metadata": {},
   "outputs": [],
   "source": [
    "# wrangling\n",
    "import numpy as np\n",
    "import pandas as pd\n",
    "\n",
    "# modeling\n",
    "import pisg\n",
    "import pymc3 as pm\n",
    "import theano.tensor as tt\n",
    "\n",
    "# aesthetics\n",
    "pd.options.mode.chained_assignment = None\n",
    "pd.options.display.max_rows = 999\n",
    "%load_ext lab_black"
   ]
  },
  {
   "cell_type": "markdown",
   "id": "22634d9a-7ff0-44a4-8e64-f9e53bf0c018",
   "metadata": {
    "tags": [],
    "toc-hr-collapsed": true
   },
   "source": [
    "# load data"
   ]
  },
  {
   "cell_type": "code",
   "execution_count": 2,
   "id": "37a0c750-64a3-4adb-ad2a-f6725854c67b",
   "metadata": {},
   "outputs": [],
   "source": [
    "# data file directories\n",
    "DESIGN_DIR = \"../data/designs/\"  # experiment designs\n",
    "FINAL_DIR = \"../data/ready/\"  # processed data\n",
    "PRED_DIR = \"../data/predictions/\"  # save model predictions"
   ]
  },
  {
   "cell_type": "code",
   "execution_count": 3,
   "id": "b294b395-6ddf-45e6-89c2-b061cbdd001d",
   "metadata": {},
   "outputs": [],
   "source": [
    "# load data for modeling\n",
    "df_6aliens = pd.read_csv(FINAL_DIR + \"6aliens_modeling.csv\")\n",
    "df_20aliens = pd.read_csv(FINAL_DIR + \"20aliens_modeling.csv\")"
   ]
  },
  {
   "cell_type": "markdown",
   "id": "67924dd4-7a7c-4391-8233-882ae8abef1e",
   "metadata": {
    "tags": []
   },
   "source": [
    "# infer hit rates"
   ]
  },
  {
   "cell_type": "markdown",
   "id": "131a5181-d4f2-4c54-a9a7-c744778e29ac",
   "metadata": {
    "tags": []
   },
   "source": [
    "There are 3 ways in which people can infer the population hit rate of each group from observation:\n",
    "\n",
    "<img src=\"https://www.dropbox.com/s/eaxqvlkwdij8j03/models.png?raw=1\" width=\"350\">\n",
    "\n",
    "1. **Search Rate Only** (SRO): Since Alex knows the best, observed hit rates can be ignored.\n",
    "2. **Hit Rate Only** (HRO): What we said about Alex doesn't matter; one should only trust observed hit rates.\n",
    "3. **Search + Hit Rates** (SHR): Both matter and should be taken into account.\n",
    "\n",
    "Three models correspond to those 3 strategies. That said, from participants' free responses, their actual strategies can be much messier. "
   ]
  },
  {
   "cell_type": "code",
   "execution_count": 4,
   "id": "ed9dddb0-3eae-4ee4-963e-c7fe322aeed9",
   "metadata": {},
   "outputs": [
    {
     "name": "stdout",
     "output_type": "stream",
     "text": [
      "CPU times: user 1min 57s, sys: 3.18 s, total: 2min\n",
      "Wall time: 2min 5s\n"
     ]
    }
   ],
   "source": [
    "%%time\n",
    "preds_6aliens = pisg.make_predictions(df=df_6aliens, design_dir=DESIGN_DIR, group_size=6)\n",
    "preds_6aliens.to_csv(PRED_DIR + \"model_hits_6aliens.csv\", index=False)"
   ]
  },
  {
   "cell_type": "code",
   "execution_count": 5,
   "id": "26c60eaa-80d8-4272-ba5d-5cf7c6be0503",
   "metadata": {},
   "outputs": [
    {
     "name": "stdout",
     "output_type": "stream",
     "text": [
      "CPU times: user 14min 45s, sys: 15.2 s, total: 15min\n",
      "Wall time: 15min\n"
     ]
    }
   ],
   "source": [
    "%%time\n",
    "preds_20aliens = pisg.make_predictions(df=df_20aliens, design_dir=DESIGN_DIR, group_size=20)\n",
    "preds_20aliens.to_csv(PRED_DIR + \"model_hits_20aliens.csv\", index=False)"
   ]
  }
 ],
 "metadata": {
  "kernelspec": {
   "display_name": "Python 3",
   "language": "python",
   "name": "python3"
  },
  "language_info": {
   "codemirror_mode": {
    "name": "ipython",
    "version": 3
   },
   "file_extension": ".py",
   "mimetype": "text/x-python",
   "name": "python",
   "nbconvert_exporter": "python",
   "pygments_lexer": "ipython3",
   "version": "3.9.5"
  },
  "toc-autonumbering": true
 },
 "nbformat": 4,
 "nbformat_minor": 5
}
