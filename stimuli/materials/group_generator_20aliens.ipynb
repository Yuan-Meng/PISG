{
 "cells": [
  {
   "cell_type": "code",
   "execution_count": 1,
   "id": "8132ac72-7c13-42bb-a5bc-20f18cea8f9f",
   "metadata": {},
   "outputs": [],
   "source": [
    "import numpy as np\n",
    "from matplotlib.patches import Ellipse\n",
    "import matplotlib.pyplot as plt\n",
    "import random\n",
    "plt.rcParams[\"figure.figsize\"] = (20, 16)"
   ]
  },
  {
   "cell_type": "code",
   "execution_count": 2,
   "id": "aa761103-8ecd-439d-ac32-b3da4db3138c",
   "metadata": {},
   "outputs": [],
   "source": [
    "def generate_one_group(group_name, group_size, color):\n",
    "    \"\"\"draw given number of ellipses sampled from one group\"\"\"\n",
    "\n",
    "    # empty list to collect all ellipses \n",
    "    ellipses = []\n",
    "    \n",
    "    # loop through the entire group\n",
    "    for i in range(group_size):\n",
    "        # center position\n",
    "        center = (6 - (i // 4) * 6, -15 + (i % 4) * 6)\n",
    "        # choose random width between 3 and 4\n",
    "        width = random.uniform(3, 4)\n",
    "        # add to collection\n",
    "        ellipse = Ellipse(xy=center, width=width, height=4 * np.pi / width, facecolor=color, edgecolor=\"black\") \n",
    "        ellipses.append(ellipse)\n",
    "    \n",
    "    # draw these ellipses in one plot\n",
    "    fig, ax = plt.subplots(subplot_kw={\"aspect\": \"equal\"})\n",
    "    plt.axis(\"off\")\n",
    "    \n",
    "    for ellipse in ellipses:\n",
    "        ax.add_artist(ellipse)\n",
    "        ellipse.set_clip_box(ax.bbox)\n",
    "\n",
    "    # set canvas size\n",
    "    ax.set_xlim(-23, 11)\n",
    "    ax.set_ylim(-20, 8)\n",
    "\n",
    "    # save plot\n",
    "    plt.tight_layout\n",
    "    plt.savefig(f\"{group_name}.png\", dpi=300)\n",
    "    plt.close()"
   ]
  },
  {
   "cell_type": "code",
   "execution_count": 3,
   "id": "3aaf489a-02af-41d6-a3d7-20a4b4b6f6e8",
   "metadata": {},
   "outputs": [],
   "source": [
    "def generate_all_groups(num_groups, group_size):\n",
    "    \"\"\"draw given number of plots representing samples from all groups\"\"\"\n",
    "    \n",
    "    # 24 visually unique colors from http://phrogz.net/tmp/24colors.html\n",
    "    colors = [\n",
    "        \"#FF0000\",\n",
    "        \"#FF7F00\",\n",
    "        \"#FFD400\",\n",
    "        \"#FFFF00\",\n",
    "        \"#BFFF00\",\n",
    "        \"#6AFF00\",\n",
    "        \"#00EAFF\",\n",
    "        \"#0095FF\",\n",
    "        \"#0040FF\",\n",
    "        \"#AA00FF\",\n",
    "        \"#FF00AA\",\n",
    "        \"#EDB9B9\",\n",
    "        \"#E7E9B9\",\n",
    "        \"#B9EDE0\",\n",
    "        \"#B9D7ED\",\n",
    "        \"#DCB9ED\",\n",
    "        \"#8F2323\",\n",
    "        \"#8F6A23\",\n",
    "        \"#4F8F23\",\n",
    "        \"#23628F\",\n",
    "        \"#6B238F\",\n",
    "        \"#000000\",\n",
    "        \"#737373\",\n",
    "        \"#CCCCCC\"]\n",
    "    \n",
    "    # loop through all colors\n",
    "    for i, color in enumerate(colors):\n",
    "        # name each group alphabetically\n",
    "        group_name = chr(ord(\"A\") + i)\n",
    "        # plot for each given group \n",
    "        generate_one_group(group_name, group_size, color)"
   ]
  },
  {
   "cell_type": "code",
   "execution_count": 4,
   "id": "5210b3c5-fbbf-4843-a6eb-0f88d8ab37d5",
   "metadata": {},
   "outputs": [],
   "source": [
    "# generate 24 groups, each with 20 samples\n",
    "generate_all_groups(24, 20)"
   ]
  }
 ],
 "metadata": {
  "kernelspec": {
   "display_name": "Python 3",
   "language": "python",
   "name": "python3"
  },
  "language_info": {
   "codemirror_mode": {
    "name": "ipython",
    "version": 3
   },
   "file_extension": ".py",
   "mimetype": "text/x-python",
   "name": "python",
   "nbconvert_exporter": "python",
   "pygments_lexer": "ipython3",
   "version": "3.9.5"
  }
 },
 "nbformat": 4,
 "nbformat_minor": 5
}
